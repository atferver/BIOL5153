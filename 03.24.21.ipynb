{
 "metadata": {
  "language_info": {
   "codemirror_mode": {
    "name": "ipython",
    "version": 3
   },
   "file_extension": ".py",
   "mimetype": "text/x-python",
   "name": "python",
   "nbconvert_exporter": "python",
   "pygments_lexer": "ipython3",
   "version": "3.9.2-final"
  },
  "orig_nbformat": 2,
  "kernelspec": {
   "name": "python3",
   "display_name": "Python 3.9.2 64-bit",
   "metadata": {
    "interpreter": {
     "hash": "370ea677ff7f12a0691e3cb5880988a11f7e1c1524937cd62787ecd265efd6c6"
    }
   }
  }
 },
 "nbformat": 4,
 "nbformat_minor": 2,
 "cells": [
  {
   "cell_type": "code",
   "execution_count": 139,
   "metadata": {},
   "outputs": [],
   "source": [
    "# set the name of input DNA sequence file\n",
    "filename = 'dna.txt'\n"
   ]
  },
  {
   "cell_type": "code",
   "execution_count": 140,
   "metadata": {},
   "outputs": [
    {
     "output_type": "stream",
     "name": "stdout",
     "text": [
      "<_io.TextIOWrapper name='dna.txt' mode='r' encoding='cp1252'>\n"
     ]
    }
   ],
   "source": [
    "#open the input file, assign file handle called 'infile'\n",
    "infile = open(filename, 'r')\n",
    "\n",
    "print(infile)"
   ]
  },
  {
   "cell_type": "code",
   "execution_count": 141,
   "metadata": {},
   "outputs": [],
   "source": [
    "#read the file\n",
    "dna_sequence = infile.read().rstrip()\n",
    "#dna_sequence = dna_sequence.rstrip()"
   ]
  },
  {
   "cell_type": "code",
   "execution_count": 142,
   "metadata": {},
   "outputs": [
    {
     "output_type": "stream",
     "name": "stdout",
     "text": [
      "ACGGATCCTATCAAATATTTCACATTTTCTATGATCATCTCTATTTTAGGTATTCGGGGAATCCTCCTTAATAGACGAAATATTCCTATTATGTCAATGCCAATTGAATCAATGTTATTAGCTGTGAATTCGAACTTTTTGGTATTTTCCGTTTCTTCGGATGATATGATGGGTCAATCATTTGCTTCATTGGTTCCAACGGTGGCAGCTGCGGAATCCGCTATTGGGTTAGCCATTTTCGTTATTACTTTCCGAGTCCGAGGGACTATTGCTGTAGAATTTATTAATAGCATTCAAGGTTAA\n"
     ]
    }
   ],
   "source": [
    "print(dna_sequence)"
   ]
  },
  {
   "cell_type": "code",
   "execution_count": 143,
   "metadata": {},
   "outputs": [
    {
     "output_type": "stream",
     "name": "stdout",
     "text": [
      "ACGGATCCTATCAAATATTTCACATTTTCTATGATCATCTCTATTTTAGGTATTCGGGGAATCCTCCTTAATAGACGAAATATTCCTATTATGTCAATGCCAATTGAATCAATGTTATTAGCTGTGAATTCGAACTTTTTGGTATTTTCCGTTTCTTCGGATGATATGATGGGTCAATCATTTGCTTCATTGGTTCCAACGGTGGCAGCTGCGGAATCCGCTATTGGGTTAGCCATTTTCGTTATTACTTTCCGAGTCCGAGGGACTATTGCTGTAGAATTTATTAATAGCATTCAAGGTTAA\n"
     ]
    }
   ],
   "source": [
    "#close the file\n",
    "infile.close()\n",
    "#contents are saved to variable so even with file #closed, have the contents. so when done with file, #close it.\n",
    "print(dna_sequence)"
   ]
  },
  {
   "cell_type": "code",
   "execution_count": 144,
   "metadata": {},
   "outputs": [],
   "source": [
    "seqlen = len(dna_sequence)"
   ]
  },
  {
   "cell_type": "code",
   "execution_count": 145,
   "metadata": {},
   "outputs": [
    {
     "output_type": "stream",
     "name": "stdout",
     "text": [
      "length of DNA sequence 303\n"
     ]
    }
   ],
   "source": [
    "print(\"length of DNA sequence\", seqlen)"
   ]
  },
  {
   "cell_type": "code",
   "execution_count": 146,
   "metadata": {},
   "outputs": [
    {
     "output_type": "stream",
     "name": "stdout",
     "text": [
      "76\n"
     ]
    }
   ],
   "source": [
    "print(dna_sequence.count('A'))\n",
    "numA = dna_sequence.count('A')"
   ]
  },
  {
   "cell_type": "code",
   "execution_count": 147,
   "metadata": {},
   "outputs": [
    {
     "output_type": "stream",
     "name": "stdout",
     "text": [
      "The number of A's in dna.txt: 76\n"
     ]
    }
   ],
   "source": [
    "print(\"The number of A's in\", filename + \":\", numA)"
   ]
  },
  {
   "cell_type": "code",
   "execution_count": 148,
   "metadata": {},
   "outputs": [],
   "source": [
    "outfile = open('my_first_outfile.txt', 'w')"
   ]
  },
  {
   "cell_type": "code",
   "execution_count": 149,
   "metadata": {},
   "outputs": [
    {
     "output_type": "execute_result",
     "data": {
      "text/plain": [
       "19"
      ]
     },
     "metadata": {},
     "execution_count": 149
    }
   ],
   "source": [
    "outfile.write('DNA sequence:  ' + dna_sequence + '\\n')\n",
    "outfile.write('Sequence length: ' + str(seqlen) + 'nt' + '\\n')\n",
    "outfile.write(\"number of A's:  \" + str(numA) + '\\n')"
   ]
  },
  {
   "cell_type": "code",
   "execution_count": 150,
   "metadata": {},
   "outputs": [],
   "source": [
    "outfile.close()"
   ]
  },
  {
   "cell_type": "code",
   "execution_count": 151,
   "metadata": {},
   "outputs": [
    {
     "output_type": "stream",
     "name": "stdout",
     "text": [
      "Track number 1: Tangled Up in Blue\nTrack number 2: Simple Twist of Fate\nTrack number 3: You're a Big Girl Now\nTrack number 4: Idiot Wind\nTrack number 5: You're Gonna Make Me Lonesome When You Go\nTrack number 6: Meet Me in the Morning\nTrack number 7: Lily, Rosemary and the Jack of Hearts\nTrack number 8: If You See Her, Say Hello\nTrack number 9: Shelter from the Storm\nTrack number 10: Buckets of Rain\nEnd of Album\n"
     ]
    }
   ],
   "source": [
    "#file to open\n",
    "input = 'blood_on_the_tracks.txt'\n",
    "#opening in 'r'=read mode. with will always close the file when done. always use with when reading a file line by line\n",
    "# make a line counter \n",
    "counter = 0\n",
    "with open(input, 'r') as album:\n",
    "    for line in album:\n",
    "        counter += 1\n",
    "        line = line.rstrip()\n",
    "        print(\"Track number\", str(counter) + \":\", line)\n",
    "\n",
    "    print(\"End of Album\")   \n",
    "#indentation is importnat in pyhton - white space at beginnning of line within with statment and then another block within the for loop that needs to be blocked wiht white space (another tab). it insists on consistant white space in code or you get indentation errors         \n"
   ]
  },
  {
   "cell_type": "code",
   "execution_count": 152,
   "metadata": {},
   "outputs": [
    {
     "output_type": "execute_result",
     "data": {
      "text/plain": [
       "12"
      ]
     },
     "metadata": {},
     "execution_count": 152
    }
   ],
   "source": [
    "input = 'covid.gff3'\n",
    "\n",
    "#parse different parts of input file name\n",
    "(base_name, file_extension) = input.split('.') \n",
    "#create the name of the output file t hold the feature lengths\n",
    "out_put_file = base_name + '.lengths'\n",
    "\n",
    "\n",
    "#open inwrite mode\n",
    "out = open(out_put_file, 'w')\n",
    "\n",
    "#make a list to store the feature lengths\n",
    "lengths = []\n",
    "\n",
    "#open and read the gff file\n",
    "with open(input, 'r') as gff3:\n",
    "    out.write('feature_type,length')\n",
    "    \n",
    "   \n",
    "    #loop over each line in the file, assigning each line to the variable name 'line'\n",
    "    for line in gff3:  \n",
    "        line = line.rstrip()\n",
    "       \n",
    "        if not line:\n",
    "            continue\n",
    "      \n",
    "        else:\n",
    "            #split on tab character\n",
    "            fields = line.split('\\t')\n",
    "            #calcualte and print length\n",
    "            feature_length = (int(fields[4]) - int(fields[3]))+1\n",
    "\n",
    "            lengths.append (feature_length)\n",
    "\n",
    "          \n",
    "out.write('\\n')\n",
    "out.write(fields[2] + ',' + str(feature_length))\n",
    "\n"
   ]
  },
  {
   "cell_type": "code",
   "execution_count": 153,
   "metadata": {},
   "outputs": [],
   "source": [
    "out.close()"
   ]
  },
  {
   "cell_type": "code",
   "execution_count": 154,
   "metadata": {},
   "outputs": [
    {
     "output_type": "stream",
     "name": "stdout",
     "text": [
      "item 3: 21290\nthere are 59 items in our list\n29903\n265\n21290\n13203\n8088\n540\n1914\n5835\n1500\n918\n870\n249\n594\n339\n417\n27\n2769\n1803\n1581\n1038\n894\n13218\n540\n1914\n5835\n1500\n918\n870\n249\n594\n339\n417\n39\n28\n55\n3822\n3822\n828\n828\n228\n228\n669\n669\n186\n186\n366\n366\n132\n132\n366\n366\n1260\n1260\n117\n117\n36\n29\n229\n41\n"
     ]
    }
   ],
   "source": [
    "print('item 3:', lengths[2])\n",
    "print('there are', len(lengths), 'items in our list')\n",
    "\n",
    "for i in lengths:\n",
    "    print(i)"
   ]
  }
 ]
}